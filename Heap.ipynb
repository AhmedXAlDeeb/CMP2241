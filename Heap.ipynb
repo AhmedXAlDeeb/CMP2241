{
 "cells": [
  {
   "cell_type": "code",
   "execution_count": null,
   "metadata": {},
   "outputs": [],
   "source": [
    "Heap =[] #choice of minmum heap to apply similarity mbetwen heap and lists"
   ]
  }
 ],
 "metadata": {
  "language_info": {
   "name": "python"
  }
 },
 "nbformat": 4,
 "nbformat_minor": 2
}
