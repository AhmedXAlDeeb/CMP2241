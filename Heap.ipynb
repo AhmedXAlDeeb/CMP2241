{
 "cells": [
  {
   "cell_type": "markdown",
   "metadata": {},
   "source": [
    "### Heaps \n",
    "from the book <i>\"Data Structures and Algorithms with Python\"</i>\n",
    "by Kent Lee"
   ]
  },
  {
   "cell_type": "markdown",
   "metadata": {},
   "source": [
    "## Key points about Heap:\n",
    "- it's a complete binary tree >> that's way it could be stored in the form of an array \n",
    "- A complete tree is : a tree full from left to right in all levels except in the lowest level it could be full or not (leafs) \n",
    "### So heaps are :\n",
    "- a <b>complete oredered tree of elements (<i>Structure property</i>)</b> where every <b> parent is bigger than its childern (<i>Order Property</i>) </b> includning (all descendants)\n",
    "\n",
    "### Location Computation:\n",
    "- based on the properties we can compute the index of head and childrens    $$ leftChildIndex = 2*ParentIndex + 1 $$    $$ RightChildIndex = 2*ParentIndex + 2 $$ \n",
    "- Note that if we tried to compute the Parent Index we will use the integer devision.\n"
   ]
  },
  {
   "cell_type": "markdown",
   "metadata": {},
   "source": [
    "### Building a Heap:\n",
    "- Notice that the max number of nodes in level <i> (h) </i> is $$2^h$$ and the max number of nodes in trhe entire heap(buinary tree)$$2^{h-1} -1 $$  \n",
    "also the hieght of a tree for N nodes is $$ \\lfloor{\\log_2{(N)}}\\rfloor $$\n",
    "- If the tree is perfect compelete tree number of intrnal nodes = numer of leaves -1\n",
    "\n",
    "- In Heaps (complete trees) the range of leaves in <b>Zero based index</b> is $$\\lfloor{\\frac{N}{2}} \\rfloor:N-1 $$ while the range of the internal nodes is $$ 0 : \\lfloor{\\frac{N}{2}} \\rfloor $$\n"
   ]
  },
  {
   "cell_type": "code",
   "execution_count": null,
   "metadata": {},
   "outputs": [],
   "source": [
    "def buildFrom(self, aSequence):\n",
    "    "
   ]
  }
 ],
 "metadata": {
  "language_info": {
   "name": "python"
  }
 },
 "nbformat": 4,
 "nbformat_minor": 2
}
